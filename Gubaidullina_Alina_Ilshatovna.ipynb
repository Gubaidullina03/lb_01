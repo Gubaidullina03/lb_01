import psycopg2

def get_connection(database_name):
    # Функция для получения подключения к базе данных
    connection = psycopg2.connect(user="postgres",
                                  password="1",
                                  host="localhost",
                                  port="5432",
                                  database="bi_student")
    return connection

def close_connection(connection):
    # Функция для закрытия подключения к базе данных
    if connection:
        connection.close()
        print("Соединение с PostgreSQL закрыто")

try:
    # Создание подключения к базе данных sql_case_bi_mgpu (база, с которой можно создавать другие базы)
    connection = psycopg2.connect(user="postgres",
                                  password="1",
                                  host="localhost",
                                  port="5432",
                                  database="bi_student")
    connection.autocommit = True  # Отключаем транзакцию для команды CREATE DATABASE
    cursor = connection.cursor()

    # ЗАДАНИЕ 1
    # Создайте базу данных "medical_center" и таблицу "Staff".
    cursor.execute("CREATE DATABASE medical_center;")
    print("База данных 'medical_center' успешно создана")

    # Закрытие текущего соединения для подключения к новой базе данных
    close_connection(connection)

    # Подключение к новой базе данных 'medical_center'
    connection = get_connection("medical_center")
    cursor = connection.cursor()


    # Создание таблицы Staff
    create_table_query = '''
    CREATE TABLE Staff (
        Staff_Id serial NOT NULL PRIMARY KEY,
        Staff_Name VARCHAR (100) NOT NULL,
        Position VARCHAR (100) NOT NULL,
        Specialization VARCHAR (100) NOT NULL,
        Departament VARCHAR (100) NOT NULL,
        Phone VARCHAR (20) NOT NULL,
        Email VARCHAR (100) NOT NULL

    );
    '''
    cursor.execute(create_table_query)
    connection.commit()
    print("Таблица 'Staff' успешно создана")


    # ЗАДАНИЕ 2 
    # Вставьте данные в таблицу "Staff" о 5 новых врачах.
    insert_query = '''
    INSERT INTO Staff (Staff_Id, Staff_Name, Position, Specialization, Departament, Phone, Email)
    VALUES
    (1, 'Иванова Анна Сергеевна', 'Врач-терапевт', 'Терапия', 'Терапевтическое отделение', '+79151234567', 'ivanova@medcenter.ru'),
    (2, 'Петров Дмитрий Игоревич', 'Хирург', 'Общая хирургия', 'Хирургическое отделение', '+79037654321', 'petrov@medcenter.ru'),
    (3, 'Сидорова Елена Владимировна', 'Медсестра', 'Сестринское дело', 'Кардиологическое отделение', '+79219876543', 'sidorova@medcenter.ru'),
    (4, 'Козлов Артем Александрович', 'Врач-невролог', 'Неврология', 'Неврологическое отделение', '+79164567890', 'kozlov@medcenter.ru'),
    (5, 'Михайлова Ольга Дмитриевна', 'Врач-педиатр', 'Педиатрия', 'Детское отделение', '+79031237890', 'mihailova@medcenter.ru');
    
    '''
    cursor.execute(insert_query)
    connection.commit()
    print("Данные успешно вставлены в таблицу 'Staff'")

except (Exception, psycopg2.Error) as error:
    print("Ошибка при подключении или работе с PostgreSQL:", error)

finally:
    # Закрытие подключения к базе данных
    if connection:
        close_connection(connection)







    # ЗАДАНИЕ 3
    # Получите все записи о больнице с ID=4

    # Для выполнения данного запроса, создадим таблицу "Hospital" и заполним ее данными

import psycopg2

def get_connection(database_name):
    # Функция для получения подключения к базе данных
    connection = psycopg2.connect(user="postgres",
                                  password="1",
                                  host="localhost",
                                  port="5432",
                                  database="bi_student")
    return connection

def close_connection(connection):
    # Функция для закрытия подключения к базе данных
    if connection:
        connection.close()
        print("Соединение с PostgreSQL закрыто")

try:
    # Создание подключения к базе данных sql_case_bi_mgpu (база, с которой можно создавать другие базы)
    connection = psycopg2.connect(user="postgres",
                                  password="1",
                                  host="localhost",
                                  port="5432",
                                  database="bi_student")
    connection.autocommit = True  # Отключаем транзакцию для команды CREATE DATABASE
    cursor = connection.cursor()


    # Подключение к новой базе данных 'medical_center'
    connection = get_connection("medical_center")
    cursor = connection.cursor()

    # Создание таблицы Hospital
    create_table_query = '''
    CREATE TABLE Hospital (
        Hospital_Id serial NOT NULL PRIMARY KEY,
        Hospital_Name VARCHAR (100) NOT NULL,
        Bed_Count serial
    );
    '''
    cursor.execute(create_table_query)
    connection.commit()
    print("Таблица 'Hospital' успешно создана")

    # Вставка данных в таблицу Hospital
    insert_query = '''
    INSERT INTO Hospital (Hospital_Id, Hospital_Name, Bed_Count)
    VALUES
    (1, 'Mayo Clinic', 200),
    (2, 'Cleveland Clinic', 400),
    (3, 'Johns Hopkins', 1000),
    (4, 'UCLA Medical Center', 1500);
    '''

    cursor.execute(insert_query)
    connection.commit()
    print("Данные успешно вставлены в таблицу 'Hospital'")

except (Exception, psycopg2.Error) as error:
    print("Ошибка при подключении или работе с PostgreSQL:", error)

finally:
    # Закрытие подключения к базе данных
    if connection:
        close_connection(connection)



    #  Выполним запрос для получения всех записей о больнице с ID=4

def get_connection(database_name):
    # Функция для получения подключения к базе данных
    connection = psycopg2.connect(user="postgres",
                                  password="1",
                                  host="localhost",
                                  port="5432",
                                  database="bi_student")
    return connection

def close_connection(connection):
    # Функция для закрытия подключения к базе данных
    if connection:
        connection.close()
        print("Соединение с PostgreSQL закрыто")

def get_hospital_detail(hospital_id):
    try:
        # Подключаемся к базе данных medical_center
        database_name = 'medical_center'
        connection = get_connection(database_name)
        cursor = connection.cursor()

        # Запрос для получения информации о больнице 
        select_query = """SELECT * FROM Hospital WHERE Hospital_Id = %s """
        cursor.execute(select_query, (hospital_id,))
        records = cursor.fetchall()

        # Вывод информации о больнице
        print("Печать записи о больнице:")
        for row in records:
            print("Hospital Id:", row[0])
            print("Hospital Name:", row[1])
            print("Bed Count:", row[2])

        # Закрытие подключения
        close_connection(connection)
    except (Exception, psycopg2.Error) as error:
        print("Ошибка при получении данных:", error)

# Запросить данные о больнице с ID 4 
print("Упражнение 3. Чтение информации о больнице\n")
get_hospital_detail(4)
print("\n")



    # ЗАДАНИЕ 4
    # Выполните запрос для получения врачей, специализирующихся на педиатрии

import psycopg2

def get_connection(database_name):
    # Функция для получения подключения к базе данных
    connection = psycopg2.connect(user="postgres",
                                  password="1",
                                  host="localhost",
                                  port="5432",
                                  database="bi_student")
    return connection

def close_connection(connection):
    # Функция для закрытия подключения к базе данных
    if connection:
        connection.close()
        print("Соединение с PostgreSQL закрыто")

# Подключаемся к базе данных medical_center
database_name = 'medical_center'

def get_specialization_list(specialization):
    try:
        connection = get_connection(database_name)
        cursor = connection.cursor()

        # Ззапрос для получения списка врачей по специальности
        select_query = """SELECT * FROM Staff WHERE Specialization = %s """
        cursor.execute(select_query, (specialization,))
        records = cursor.fetchall()

        # Выводим информацию о врачах с указанной специальностью 
        print("Список врачей со специальностью:")
        for row in records:
            print("Staff Id:", row[0])
            print("Staff Name:", row[1])
            print("Position:", row[2])
            print("Specialization:", row[3])
            print("Departament:", row[4])
            print("Phone:", row[5])
            print("Email:", row[6])

        # Закрытие подключения
        close_connection(connection)
    except (Exception, psycopg2.Error) as error:
        print("Ошибка при получении данных:", error)

# Получение списка врачей по заданной специальности 
print("Получить список врачей по заданной специальности\n")
get_specialization_list("Педиатрия")
print("\n")





    # ЗАДАНИЕ 5
    # Построить график с данными о больницах, сортированных по количеству мест

import pandas as pd
import matplotlib.pyplot as plt

# Данные из таблицы Hospital
data = {
    'Hospital_Id': [1, 2, 3, 4],
    'Hospital_Name': ['Mayo Clinic', 'Cleveland Clinic', 'Johns Hopkins', 'UCLA Medical Center'],
    'Bed_Count': [200, 400, 1000, 1500]
}

# Создаем DataFrame и сортируем по Bed_Count
df = pd.DataFrame(data).sort_values('Bed_Count')

# Настройка стиля
plt.style.use('ggplot')
plt.figure(figsize=(10, 6))

# Создаем столбчатую диаграмму
bars = plt.barh(df['Hospital_Name'], df['Bed_Count'], color='skyblue')

# Добавляем значения на столбцы
for bar in bars:
    width = bar.get_width()
    plt.text(width + 20, bar.get_y() + bar.get_height()/2, 
             f'{int(width)}', 
             va='center')

# Настройки оформления
plt.title('Количество мест в больницах', pad=20, fontsize=14)
plt.xlabel('Количество мест')
plt.ylabel('Больница')
plt.tight_layout()

# Показать график
plt.show()